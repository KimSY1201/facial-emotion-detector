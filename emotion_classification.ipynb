{
 "cells": [
  {
   "cell_type": "markdown",
   "metadata": {},
   "source": [
    "[ EMOTION CLASSIFICATION - ANGRY ]<hr>\n",
    "\n",
    "- 분류/지도학습\n",
    "- DNN MODEL\n",
    "- ANGRY 판별 여부"
   ]
  },
  {
   "cell_type": "code",
   "execution_count": 16,
   "metadata": {},
   "outputs": [],
   "source": [
    "## 모듈 로딩 \n",
    "import torch                                            ## 텐서 및 기본 함수들 모듈\n",
    "import torch.nn as nn                                   ## 인공신경망 관련 모듈\n",
    "import torch.nn.functional as F                         ## 인공신경망 관련 함수들 모듈\n",
    "import torch.optim as optim                             ## 인공신경망 관련 최적화 모듈\n",
    "from torch.optim.lr_scheduler import ReduceLROnPlateau  ## 학습률 조정 \n",
    "\n",
    "from torchinfo import summary                           ## 모델 정보 및 구조 확인 모듈\n",
    "from torchmetrics.classification import *               ## 모델 성능 지표 관련 모듈\n",
    "\n",
    "from torchvision.datasets import ImageFolder            ## 이미지용 데이터셋 생성 모듈\n",
    "from torch.utils.data import DataLoader                 ## 데이터 셋 관련 모듈\n",
    "from torch.utils.data import Subset, random_split       \n",
    "from torchvision.transforms import transforms           ## 이미지 전처리 및 증강 모듈\n",
    "from torch.autograd import Variable\n",
    "from PIL import Image\n",
    "\n",
    "import matplotlib.pyplot as plt                         ## 이미지 시각화 \n",
    "\n",
    "from utils import get_custom_subset, count_images_in_subset, relabel_dataset, FocalLoss, predict_image"
   ]
  },
  {
   "cell_type": "code",
   "execution_count": 17,
   "metadata": {},
   "outputs": [],
   "source": [
    "from DNNmodel import EmotionDNN\n",
    "from model_funcion import *"
   ]
  },
  {
   "cell_type": "markdown",
   "metadata": {},
   "source": [
    "[ 이미지 증강 ]<hr>\n",
    "- angry 46000장\n",
    "- angry 제외한 46000장"
   ]
  },
  {
   "cell_type": "code",
   "execution_count": 18,
   "metadata": {},
   "outputs": [],
   "source": [
    "from torchvision import transforms as tf\n",
    "from torchvision.datasets import ImageFolder\n",
    "\n",
    "import os\n",
    "import random\n",
    "from PIL import Image, ImageOps\n",
    "import torch"
   ]
  },
  {
   "cell_type": "code",
   "execution_count": 19,
   "metadata": {},
   "outputs": [],
   "source": [
    "# 각종 LIB 충돌 방지를 위한 환경 설정\n",
    "\n",
    "os.environ['KMP_DUPLICATE_LIB_OK']='True'"
   ]
  },
  {
   "cell_type": "code",
   "execution_count": 20,
   "metadata": {},
   "outputs": [],
   "source": [
    "IMG_DIR = './data/archive/MMAFEDB/train/angry/'"
   ]
  },
  {
   "cell_type": "code",
   "execution_count": 22,
   "metadata": {},
   "outputs": [],
   "source": [
    "TARGET_COUNT = 30000  # 목표 이미지 개수"
   ]
  },
  {
   "cell_type": "code",
   "execution_count": 23,
   "metadata": {},
   "outputs": [
    {
     "name": "stdout",
     "output_type": "stream",
     "text": [
      "현재 이미지 개수: 13000 / 30000\n",
      "현재 이미지 개수: 14000 / 30000\n",
      "현재 이미지 개수: 15000 / 30000\n",
      "현재 이미지 개수: 16000 / 30000\n",
      "현재 이미지 개수: 17000 / 30000\n",
      "현재 이미지 개수: 18000 / 30000\n",
      "현재 이미지 개수: 19000 / 30000\n",
      "현재 이미지 개수: 20000 / 30000\n",
      "현재 이미지 개수: 21000 / 30000\n",
      "현재 이미지 개수: 22000 / 30000\n",
      "현재 이미지 개수: 23000 / 30000\n",
      "현재 이미지 개수: 24000 / 30000\n",
      "현재 이미지 개수: 25000 / 30000\n",
      "현재 이미지 개수: 26000 / 30000\n",
      "현재 이미지 개수: 27000 / 30000\n",
      "현재 이미지 개수: 28000 / 30000\n",
      "현재 이미지 개수: 29000 / 30000\n",
      "현재 이미지 개수: 30000 / 30000\n",
      "\n",
      " 총 30000개의 이미지가 ./data/archive/MMAFEDB/train/angry/에 저장되었습니다.\n"
     ]
    }
   ],
   "source": [
    "# 현재 이미지 목록 가져오기\n",
    "images = os.listdir(IMG_DIR)\n",
    "current_count = len(images)\n",
    "\n",
    "# 데이터 증강 정의\n",
    "augmentation = tf.Compose([\n",
    "    tf.RandomRotation(degrees=(-30, 30), expand=True),   # 랜덤 회전\n",
    "    tf.RandomHorizontalFlip(p=0.5),                      # 좌우 반전 (50% 확률)\n",
    "    tf.RandomVerticalFlip(p=0.5),                        # 상하 반전 (50% 확률)\n",
    "    tf.ToTensor()\n",
    "])\n",
    "\n",
    "def save_image(tensor_img, save_path):\n",
    "    img = tf.ToPILImage()(tensor_img)\n",
    "    img.save(save_path)\n",
    "\n",
    "# 기존 이미지 저장하기\n",
    "for img_name in images:\n",
    "    src_path = os.path.join(IMG_DIR, img_name)\n",
    "    dst_path = os.path.join(IMG_DIR, img_name)\n",
    "    img = Image.open(src_path).convert('L')  # Grayscale로 변환\n",
    "    img.save(dst_path)\n",
    "\n",
    "# 데이터 증강으로 목표 개수까지 증가시키기\n",
    "while current_count < TARGET_COUNT:\n",
    "    img_name = random.choice(images)\n",
    "    img_path = os.path.join(IMG_DIR, img_name)\n",
    "    \n",
    "    with Image.open(img_path) as img:\n",
    "        img = img.convert('L')  # Grayscale로 변환\n",
    "        tensor_img = tf.ToTensor()(img)\n",
    "        \n",
    "        # 증강 처리\n",
    "        augmented_img = augmentation(img)\n",
    "        \n",
    "        # 이미지 저장\n",
    "        new_img_name = f'augmented_{current_count}.png'\n",
    "        save_path = os.path.join(IMG_DIR, new_img_name)\n",
    "        save_image(augmented_img, save_path)\n",
    "        \n",
    "        current_count += 1\n",
    "\n",
    "    if current_count % 1000 == 0:\n",
    "        print(f'현재 이미지 개수: {current_count} / {TARGET_COUNT}')\n",
    "\n",
    "print(f'\\n 총 {current_count}개의 이미지가 {IMG_DIR}에 저장되었습니다.')"
   ]
  },
  {
   "cell_type": "markdown",
   "metadata": {},
   "source": [
    "[1] 데이터 로딩 및 데이터셋 준비 <hr>"
   ]
  },
  {
   "cell_type": "code",
   "execution_count": 24,
   "metadata": {},
   "outputs": [],
   "source": [
    "## 데이터 준비\n",
    "TRAIN_ROOT ='./data/archive/MMAFEDB/train/'\n",
    "VALID_ROOT ='./data/archive/MMAFEDB/valid/'\n",
    "TEST_ROOT ='./data/archive/MMAFEDB/test/'"
   ]
  },
  {
   "cell_type": "markdown",
   "metadata": {},
   "source": [
    "- [1-2] 이미지 데이터 로딩 "
   ]
  },
  {
   "cell_type": "code",
   "execution_count": 25,
   "metadata": {},
   "outputs": [],
   "source": [
    "train_transform = transforms.Compose([\n",
    "    transforms.Grayscale(num_output_channels=1), # Grayscale 변환\n",
    "    transforms.Resize((48, 48)),\n",
    "    transforms.ToTensor(),                        # (1, 48, 48)\n",
    "    transforms.Normalize((0.5,), (0.5,))          # 채널 1개 -> 평균, 표준편차도 1개씩\n",
    "])\n",
    "\n",
    "valid_transform = transforms.Compose([\n",
    "    transforms.Grayscale(num_output_channels=1),\n",
    "    transforms.Resize((48, 48)),\n",
    "    transforms.ToTensor(),\n",
    "    transforms.Normalize((0.5,), (0.5,))\n",
    "])\n",
    "\n",
    "test_transform = transforms.Compose([\n",
    "    transforms.Grayscale(num_output_channels=1),\n",
    "    transforms.Resize((48, 48)),\n",
    "    transforms.ToTensor(),\n",
    "    transforms.Normalize((0.5,), (0.5,))\n",
    "])\n"
   ]
  },
  {
   "cell_type": "code",
   "execution_count": 26,
   "metadata": {},
   "outputs": [],
   "source": [
    "## - 이미지 데이터 로딩 \n",
    "TRAINDS = ImageFolder(root=TRAIN_ROOT,\n",
    "                        transform=train_transform)\n",
    "VALIDDS = ImageFolder(root=VALID_ROOT, \n",
    "                    transform=valid_transform)\n",
    "TESTDS = ImageFolder(root=TEST_ROOT, \n",
    "                    transform=test_transform)"
   ]
  },
  {
   "cell_type": "code",
   "execution_count": 27,
   "metadata": {},
   "outputs": [
    {
     "name": "stdout",
     "output_type": "stream",
     "text": [
      "IDX_TO_CLASS => {0: 'angry', 1: 'disgust', 2: 'fear', 3: 'happy', 4: 'neutral', 5: 'sad', 6: 'surprise'}\n"
     ]
    }
   ],
   "source": [
    "## - 클래스 변환 데이터 \n",
    "IDX_TO_CLASS = {v:k for k, v in TRAINDS.class_to_idx.items()}\n",
    "print(f'IDX_TO_CLASS => {IDX_TO_CLASS}')"
   ]
  },
  {
   "cell_type": "code",
   "execution_count": 28,
   "metadata": {},
   "outputs": [
    {
     "name": "stdout",
     "output_type": "stream",
     "text": [
      "imgDataset 개수 : 121908개\n",
      "imgDataset 분류 : {'angry': 0, 'disgust': 1, 'fear': 2, 'happy': 3, 'neutral': 4, 'sad': 5, 'surprise': 6}\n",
      "- angry      개수 : 30000개, 24.60872133083965\n",
      "- disgust      개수 : 4433개, 3.636348721987072\n",
      "- fear      개수 : 9163개, 7.516323785149456\n",
      "- happy      개수 : 28592개, 23.453752009712243\n",
      "- neutral      개수 : 29384개, 24.10342225284641\n",
      "- sad      개수 : 12223개, 10.0264133608951\n",
      "- surprise      개수 : 8113개, 6.6550185385700695\n"
     ]
    }
   ],
   "source": [
    "## - 데이터 확인\n",
    "print(f'imgDataset 개수 : {len(TRAINDS.targets)}개')\n",
    "print(f'imgDataset 분류 : {TRAINDS.class_to_idx}')\n",
    "print(f'- angry      개수 : {TRAINDS.targets.count(0)}개, {(TRAINDS.targets.count(0)/len(TRAINDS.targets))*100}')\n",
    "print(f'- disgust      개수 : {TRAINDS.targets.count(1)}개, {(TRAINDS.targets.count(1)/len(TRAINDS.targets))*100}')\n",
    "print(f'- fear      개수 : {TRAINDS.targets.count(2)}개, {(TRAINDS.targets.count(2)/len(TRAINDS.targets))*100}')\n",
    "print(f'- happy      개수 : {TRAINDS.targets.count(3)}개, {(TRAINDS.targets.count(3)/len(TRAINDS.targets))*100}')\n",
    "print(f'- neutral      개수 : {TRAINDS.targets.count(4)}개, {(TRAINDS.targets.count(4)/len(TRAINDS.targets))*100}')\n",
    "print(f'- sad      개수 : {TRAINDS.targets.count(5)}개, {(TRAINDS.targets.count(5)/len(TRAINDS.targets))*100}')\n",
    "print(f'- surprise      개수 : {TRAINDS.targets.count(6)}개, {(TRAINDS.targets.count(6)/len(TRAINDS.targets))*100}')"
   ]
  },
  {
   "cell_type": "code",
   "execution_count": 29,
   "metadata": {},
   "outputs": [],
   "source": [
    "# 모든 데이터셋에 대해 라벨 변경하기\n",
    "relabel_dataset(TRAINDS)\n",
    "relabel_dataset(VALIDDS)\n",
    "relabel_dataset(TESTDS)"
   ]
  },
  {
   "cell_type": "code",
   "execution_count": 30,
   "metadata": {},
   "outputs": [],
   "source": [
    "# 라벨이 제대로 변경되었는지 확인하기\n",
    "train_labels = [label for _, label in TRAINDS.samples]\n",
    "test_labels = [label for _, label in TESTDS.samples]\n",
    "valid_labels = [label for _, label in VALIDDS.samples]"
   ]
  },
  {
   "cell_type": "code",
   "execution_count": 31,
   "metadata": {},
   "outputs": [
    {
     "name": "stdout",
     "output_type": "stream",
     "text": [
      "Train Dataset - 0 (Others): 91908, 1 (Angry): 30000\n",
      "Test Dataset - 0 (Others): 16315, 1 (Angry): 1041\n",
      "Valid Dataset - 0 (Others): 16339, 1 (Angry): 1017\n"
     ]
    }
   ],
   "source": [
    "print(f\"Train Dataset - 0 (Others): {train_labels.count(0)}, 1 (Angry): {train_labels.count(1)}\")\n",
    "print(f\"Test Dataset - 0 (Others): {test_labels.count(0)}, 1 (Angry): {test_labels.count(1)}\")\n",
    "print(f\"Valid Dataset - 0 (Others): {valid_labels.count(0)}, 1 (Angry): {valid_labels.count(1)}\")"
   ]
  },
  {
   "cell_type": "markdown",
   "metadata": {},
   "source": [
    "[ 데이터 불균형 -> 균형으로 맞추기 ]<hr>"
   ]
  },
  {
   "cell_type": "code",
   "execution_count": 35,
   "metadata": {},
   "outputs": [],
   "source": [
    "classes_to_include_all_images = ['angry', 'disgust']"
   ]
  },
  {
   "cell_type": "code",
   "execution_count": 36,
   "metadata": {},
   "outputs": [],
   "source": [
    "from utils import get_custom_subset, count_images_in_subset, relabel_dataset\n",
    "\n",
    "train_subset = get_custom_subset(TRAINDS, 5000, classes_to_include_all_images)"
   ]
  },
  {
   "cell_type": "code",
   "execution_count": 38,
   "metadata": {},
   "outputs": [],
   "source": [
    "# 'VALIDDS.class_to_idx'에서 클래스별 인덱스를 가져옵니다.\n",
    "idx_to_classes = {v: k for k, v in VALIDDS.class_to_idx.items()}\n",
    "\n",
    "# 각 클래스의 샘플 인덱스를 선택하여 리스트에 저장\n",
    "selected_indices = []\n",
    "for class_idx in range(len(idx_to_classes)):\n",
    "    # 'VALIDDS.targets'에서 해당 클래스 인덱스를 가진 샘플들의 인덱스를 선택\n",
    "    class_indices = [i for i, target in enumerate(VALIDDS.targets) if target == class_idx]\n",
    "    selected_indices.extend(class_indices)  # 각 클래스의 인덱스를 모두 추가\n",
    "\n",
    "# 전체 데이터셋의 서브셋을 생성\n",
    "valid_subset = Subset(VALIDDS, selected_indices)"
   ]
  },
  {
   "cell_type": "code",
   "execution_count": 39,
   "metadata": {},
   "outputs": [
    {
     "name": "stdout",
     "output_type": "stream",
     "text": [
      "angry: 30000 images\n",
      "disgust: 4433 images\n",
      "fear: 5000 images\n",
      "happy: 5000 images\n",
      "neutral: 5000 images\n",
      "sad: 5000 images\n",
      "surprise: 5000 images\n"
     ]
    }
   ],
   "source": [
    "from collections import Counter\n",
    "\n",
    "# train_subset에서 각 감정 클래스별 이미지 수 출력\n",
    "count_images_in_subset(train_subset, TRAINDS)"
   ]
  },
  {
   "cell_type": "markdown",
   "metadata": {},
   "source": [
    "데이터 로더 준비<hr>"
   ]
  },
  {
   "cell_type": "code",
   "execution_count": 40,
   "metadata": {},
   "outputs": [
    {
     "name": "stdout",
     "output_type": "stream",
     "text": [
      "Training data: 59433 images\n",
      "Validation data: 17356 images\n"
     ]
    }
   ],
   "source": [
    "# 데이터로더 설정\n",
    "TRAINDL= DataLoader(train_subset, batch_size=1000, shuffle=True, generator=torch.Generator().manual_seed(42))\n",
    "VALIDDL = DataLoader(valid_subset, batch_size=1000, shuffle=False)\n",
    "\n",
    "\n",
    "print(f\"Training data: {len(train_subset)} images\")\n",
    "print(f\"Validation data: {len(valid_subset)} images\")\n"
   ]
  },
  {
   "cell_type": "code",
   "execution_count": 42,
   "metadata": {},
   "outputs": [
    {
     "data": {
      "text/plain": [
       "<torch._C.Generator at 0x230331b96b0>"
      ]
     },
     "execution_count": 42,
     "metadata": {},
     "output_type": "execute_result"
    }
   ],
   "source": [
    "# 전체 PyTorch 난수 생성기 시드 설정, 전역적으로 모든 랜덤 생성기의 시드를 설정 즉, PyTorch의 모든 연산에 영향\n",
    "torch.manual_seed(42)"
   ]
  },
  {
   "cell_type": "code",
   "execution_count": 43,
   "metadata": {},
   "outputs": [
    {
     "name": "stdout",
     "output_type": "stream",
     "text": [
      "torch.Size([1000, 1, 48, 48]) tensor([1, 1, 0, 0, 1, 1, 0, 1, 0, 0, 1, 1, 1, 0, 1, 0, 1, 1, 1, 0, 0, 1, 1, 1,\n",
      "        1, 1, 1, 1, 1, 0, 1, 0, 1, 0, 0, 0, 0, 0, 1, 1, 1, 0, 0, 1, 1, 1, 0, 0,\n",
      "        1, 0, 0, 0, 1, 1, 1, 1, 0, 0, 0, 0, 1, 1, 0, 0, 0, 1, 0, 1, 1, 0, 1, 1,\n",
      "        0, 1, 1, 0, 0, 0, 0, 0, 0, 0, 0, 0, 0, 0, 1, 0, 0, 0, 1, 1, 1, 0, 0, 0,\n",
      "        1, 0, 1, 0, 0, 1, 1, 1, 0, 1, 0, 0, 1, 1, 0, 0, 0, 1, 0, 1, 1, 1, 0, 0,\n",
      "        0, 0, 1, 0, 0, 0, 1, 0, 0, 0, 1, 0, 1, 0, 0, 0, 0, 1, 0, 1, 1, 0, 1, 0,\n",
      "        1, 0, 1, 1, 0, 1, 1, 0, 0, 0, 1, 0, 1, 1, 1, 1, 0, 1, 0, 0, 0, 1, 1, 1,\n",
      "        1, 0, 0, 0, 1, 0, 1, 1, 1, 1, 0, 0, 0, 0, 0, 1, 1, 0, 1, 1, 0, 1, 0, 1,\n",
      "        0, 0, 0, 1, 0, 0, 0, 1, 0, 0, 0, 1, 0, 0, 1, 1, 0, 0, 0, 0, 0, 1, 1, 1,\n",
      "        1, 1, 1, 0, 1, 1, 1, 1, 1, 1, 1, 0, 1, 1, 0, 1, 1, 0, 1, 1, 1, 0, 0, 1,\n",
      "        1, 0, 0, 0, 0, 1, 1, 1, 0, 0, 1, 0, 1, 1, 0, 1, 1, 0, 1, 0, 1, 1, 0, 0,\n",
      "        0, 0, 1, 0, 1, 1, 0, 1, 0, 1, 0, 1, 1, 1, 0, 0, 1, 0, 1, 1, 0, 1, 0, 1,\n",
      "        0, 1, 0, 1, 0, 1, 0, 1, 1, 1, 1, 0, 0, 1, 1, 0, 1, 1, 1, 0, 1, 1, 1, 0,\n",
      "        1, 0, 1, 1, 1, 0, 1, 1, 1, 0, 0, 0, 1, 1, 0, 1, 0, 1, 0, 1, 0, 0, 1, 0,\n",
      "        1, 0, 0, 1, 0, 1, 0, 0, 1, 0, 0, 1, 0, 1, 0, 0, 1, 1, 1, 1, 0, 1, 0, 0,\n",
      "        1, 1, 1, 0, 1, 1, 0, 0, 1, 1, 1, 0, 0, 0, 0, 0, 0, 0, 1, 1, 1, 0, 1, 1,\n",
      "        1, 0, 1, 0, 0, 1, 1, 0, 0, 0, 0, 0, 1, 0, 0, 0, 0, 0, 0, 0, 1, 0, 1, 1,\n",
      "        1, 0, 0, 1, 1, 0, 1, 1, 0, 1, 0, 1, 1, 0, 1, 1, 1, 0, 0, 0, 1, 1, 0, 1,\n",
      "        0, 1, 0, 0, 1, 1, 0, 0, 0, 1, 1, 0, 1, 0, 0, 0, 1, 0, 0, 1, 1, 0, 0, 1,\n",
      "        1, 1, 0, 0, 0, 1, 0, 0, 1, 1, 0, 1, 0, 1, 0, 1, 1, 0, 0, 1, 1, 1, 0, 0,\n",
      "        0, 1, 0, 1, 1, 0, 1, 1, 0, 1, 1, 0, 1, 1, 1, 1, 1, 0, 1, 1, 1, 0, 0, 1,\n",
      "        1, 0, 0, 1, 0, 1, 1, 0, 1, 1, 1, 1, 1, 1, 0, 0, 1, 1, 0, 1, 0, 0, 1, 0,\n",
      "        1, 0, 0, 1, 1, 0, 1, 0, 0, 0, 1, 1, 1, 1, 1, 0, 0, 1, 1, 1, 0, 1, 1, 0,\n",
      "        1, 0, 1, 1, 0, 0, 1, 1, 0, 1, 0, 1, 0, 0, 0, 1, 1, 1, 0, 0, 0, 1, 1, 1,\n",
      "        0, 1, 0, 0, 0, 1, 0, 0, 0, 1, 0, 1, 1, 1, 1, 1, 1, 0, 1, 0, 1, 0, 0, 1,\n",
      "        1, 1, 1, 0, 1, 1, 1, 0, 0, 0, 0, 1, 0, 0, 0, 1, 0, 1, 0, 0, 1, 1, 1, 1,\n",
      "        0, 1, 0, 1, 1, 1, 0, 0, 0, 0, 0, 1, 0, 1, 0, 0, 0, 1, 0, 1, 1, 1, 1, 1,\n",
      "        1, 0, 0, 0, 0, 0, 1, 0, 1, 1, 0, 1, 1, 1, 0, 0, 0, 0, 1, 0, 0, 0, 1, 1,\n",
      "        0, 1, 0, 1, 1, 0, 0, 1, 0, 1, 1, 1, 0, 0, 0, 0, 1, 1, 0, 1, 1, 1, 1, 1,\n",
      "        1, 0, 0, 0, 0, 0, 0, 0, 0, 1, 1, 1, 0, 0, 1, 0, 0, 0, 0, 0, 1, 0, 1, 1,\n",
      "        0, 1, 1, 1, 0, 1, 0, 1, 0, 0, 0, 1, 0, 0, 0, 0, 1, 1, 1, 1, 1, 1, 1, 1,\n",
      "        0, 1, 0, 1, 0, 1, 0, 0, 1, 1, 1, 0, 0, 0, 0, 0, 1, 1, 1, 0, 0, 0, 1, 1,\n",
      "        1, 1, 0, 1, 0, 0, 1, 1, 0, 0, 0, 1, 0, 1, 0, 0, 1, 0, 1, 0, 0, 0, 1, 0,\n",
      "        1, 0, 0, 0, 0, 1, 0, 0, 0, 1, 0, 0, 0, 0, 0, 0, 0, 1, 0, 0, 1, 1, 0, 0,\n",
      "        0, 0, 1, 1, 1, 1, 0, 1, 1, 1, 0, 0, 1, 0, 1, 1, 1, 0, 0, 0, 0, 1, 1, 1,\n",
      "        1, 1, 0, 1, 1, 1, 0, 1, 0, 1, 1, 1, 0, 1, 0, 0, 0, 1, 0, 1, 1, 0, 1, 0,\n",
      "        0, 1, 0, 0, 0, 1, 1, 0, 0, 1, 0, 0, 0, 1, 0, 1, 0, 0, 1, 0, 1, 1, 1, 1,\n",
      "        0, 1, 1, 1, 0, 0, 0, 0, 0, 1, 0, 1, 0, 0, 1, 0, 0, 0, 1, 0, 1, 1, 1, 1,\n",
      "        0, 1, 1, 1, 0, 0, 1, 1, 1, 0, 1, 1, 1, 0, 0, 0, 0, 0, 1, 0, 0, 1, 1, 1,\n",
      "        0, 1, 1, 1, 1, 0, 1, 1, 1, 1, 0, 0, 1, 1, 0, 0, 1, 1, 1, 1, 1, 1, 1, 0,\n",
      "        1, 0, 1, 0, 0, 1, 0, 0, 1, 0, 0, 1, 0, 1, 1, 1, 1, 0, 1, 1, 0, 0, 0, 1,\n",
      "        0, 0, 0, 1, 0, 0, 0, 1, 0, 1, 1, 1, 0, 0, 0, 1])\n",
      "disgust\n"
     ]
    },
    {
     "data": {
      "image/png": "[encoded data removed]",
      "text/plain": [
       "<Figure size 640x480 with 1 Axes>"
      ]
     },
     "metadata": {},
     "output_type": "display_data"
    }
   ],
   "source": [
    "## 체크\n",
    "img, target = next(iter(TRAINDL))\n",
    "print(img.shape, target)\n",
    "\n",
    "\n",
    "print(IDX_TO_CLASS[target[0].item()])  # 첫 번째 이미지의 클래스 이름 \n",
    "\n",
    "# 첫 번째 이미지를 시각화 (img의 크기가 [batch_size, C, H, W] 형식일 경우)\n",
    "plt.imshow(img[0].permute(1, 2, 0))  # 이미지는 [C, H, W] 형식이므로, [H, W, C]로 변환하여 표시\n",
    "plt.title(IDX_TO_CLASS[target[0].item()])  # 첫 번째 이미지의 클래스 이름을 제목으로 설정\n",
    "plt.show()"
   ]
  },
  {
   "cell_type": "markdown",
   "metadata": {},
   "source": [
    "[ 모델 정의 및 클래스 설계 ]<hr>"
   ]
  },
  {
   "cell_type": "code",
   "execution_count": 44,
   "metadata": {},
   "outputs": [],
   "source": [
    "import torch.nn as nn\n",
    "import torch.nn.functional as F\n",
    "\n",
    "class EmotionDNN(nn.Module):\n",
    "    def __init__(self):\n",
    "        super().__init__()\n",
    "        \n",
    "        # 입력 크기가 48x48인 이미지를 처리하는 레이어로, 48 * 48 = 2304\n",
    "        self.in_layer   = nn.Flatten()  # 3D (BS, H, W) -> 2D (BS, H*W)\n",
    "        \n",
    "        # 첫 번째 Hidden Layer + 배치 정규화 (Batch Normalization)\n",
    "        self.hd_layer1  = nn.Linear(2304, 512)  # 2304 -> 512\n",
    "        self.batch_norm1 = nn.BatchNorm1d(512)  # 배치 정규화\n",
    "        \n",
    "        # 두 번째 Hidden Layer + 배치 정규화\n",
    "        self.hd_layer2  = nn.Linear(512, 256)   # 512 -> 256\n",
    "        self.batch_norm2 = nn.BatchNorm1d(256)  # 배치 정규화\n",
    "        \n",
    "        # 세 번째 Hidden Layer\n",
    "        self.hd_layer3  = nn.Linear(256, 130)\n",
    "        self.batch_norm3 = nn.BatchNorm1d(130)\n",
    "        \n",
    "        self.out_layer  = nn.Linear(130, 1)\n",
    "        \n",
    "        self.drop_layer = nn.Dropout(0.5)\n",
    "\n",
    "\n",
    "    def forward(self, data):\n",
    "        # 데이터의 크기 출력 (배치 크기, 높이, 너비)\n",
    "        # print(f'Input data shape: {data.shape}')\n",
    "        \n",
    "        # Flatten (3D -> 2D)\n",
    "        out = self.in_layer(data)\n",
    "        # print(f'After Flatten: {out.shape}')\n",
    "\n",
    "        # 첫 번째 Hidden Layer + 배치 정규화 + Dropout\n",
    "        out = F.relu(self.hd_layer1(out))\n",
    "        out = self.batch_norm1(out)  # 배치 정규화\n",
    "        out = self.drop_layer(out)\n",
    "\n",
    "        # 두 번째 Hidden Layer + 배치 정규화 + Dropout\n",
    "        out = F.relu(self.hd_layer2(out))\n",
    "        out = self.batch_norm2(out)  # 배치 정규화\n",
    "        out = self.drop_layer(out)\n",
    "\n",
    "        # 세 번째 Hidden Layer\n",
    "        out = F.relu(self.hd_layer3(out))\n",
    "        out = self.batch_norm3(out)\n",
    "        out = self.drop_layer(out)\n",
    "\n",
    "\n",
    "\n",
    "        # Output Layer\n",
    "        out = self.out_layer(out)\n",
    "        \n",
    "        # print(f'Output shape: {out.shape}')\n",
    "        return out\n"
   ]
  },
  {
   "cell_type": "code",
   "execution_count": 1,
   "metadata": {},
   "outputs": [
    {
     "ename": "NameError",
     "evalue": "name 'EmotionDNN' is not defined",
     "output_type": "error",
     "traceback": [
      "\u001b[1;31m---------------------------------------------------------------------------\u001b[0m",
      "\u001b[1;31mNameError\u001b[0m                                 Traceback (most recent call last)",
      "Cell \u001b[1;32mIn[1], line 4\u001b[0m\n\u001b[0;32m      1\u001b[0m \u001b[38;5;66;03m## 모델 구조 확인 \u001b[39;00m\n\u001b[0;32m      2\u001b[0m \u001b[38;5;28;01mfrom\u001b[39;00m\u001b[38;5;250m \u001b[39m\u001b[38;5;21;01mtorchinfo\u001b[39;00m\u001b[38;5;250m \u001b[39m\u001b[38;5;28;01mimport\u001b[39;00m summary \n\u001b[1;32m----> 4\u001b[0m m1 \u001b[38;5;241m=\u001b[39m \u001b[43mEmotionDNN\u001b[49m()\n\u001b[0;32m      5\u001b[0m summary(m1, input_size\u001b[38;5;241m=\u001b[39m(\u001b[38;5;241m100\u001b[39m, \u001b[38;5;241m48\u001b[39m, \u001b[38;5;241m48\u001b[39m))\n",
      "\u001b[1;31mNameError\u001b[0m: name 'EmotionDNN' is not defined"
     ]
    }
   ],
   "source": [
    "## 모델 구조 확인 \n",
    "from torchinfo import summary \n",
    "\n",
    "m1 = EmotionDNN()\n",
    "summary(m1, input_size=(100, 48, 48))"
   ]
  },
  {
   "cell_type": "code",
   "execution_count": null,
   "metadata": {},
   "outputs": [
    {
     "name": "stdout",
     "output_type": "stream",
     "text": [
      "EmotionDNN(\n",
      "  (in_layer): Flatten(start_dim=1, end_dim=-1)\n",
      "  (hd_layer1): Linear(in_features=2304, out_features=512, bias=True)\n",
      "  (batch_norm1): BatchNorm1d(512, eps=1e-05, momentum=0.1, affine=True, track_running_stats=True)\n",
      "  (hd_layer2): Linear(in_features=512, out_features=256, bias=True)\n",
      "  (batch_norm2): BatchNorm1d(256, eps=1e-05, momentum=0.1, affine=True, track_running_stats=True)\n",
      "  (hd_layer3): Linear(in_features=256, out_features=130, bias=True)\n",
      "  (batch_norm3): BatchNorm1d(130, eps=1e-05, momentum=0.1, affine=True, track_running_stats=True)\n",
      "  (out_layer): Linear(in_features=130, out_features=1, bias=True)\n",
      "  (drop_layer): Dropout(p=0.5, inplace=False)\n",
      ")\n"
     ]
    }
   ],
   "source": [
    "print(m1)"
   ]
  },
  {
   "cell_type": "markdown",
   "metadata": {},
   "source": []
  },
  {
   "cell_type": "markdown",
   "metadata": {},
   "source": [
    "[ 모델 학습 ]<hr>"
   ]
  },
  {
   "cell_type": "code",
   "execution_count": null,
   "metadata": {},
   "outputs": [],
   "source": [
    "## 학습 관련 함수\n",
    "## --------------------------------------------------------------\n",
    "## - 검증 함수 : 테스트 또는 검증용 데이터셋 사용하는 함수 \n",
    "##              W,b 업데이트 안함\n",
    "## --------------------------------------------------------------\n",
    "def evaluate(model, testDL, loss_fn, score_fn, n_iter):\n",
    "    # 에포크 단위로 검증 => 검증 모드\n",
    "    model.eval()\n",
    "\n",
    "    # W, b가 업데이트 해제\n",
    "    with torch.no_grad():\n",
    "        T_LOSS, T_ACC = 0, 0\n",
    "        for feature, target in testDL:\n",
    "            # 학습 진행\n",
    "            pre_y = model(feature)\n",
    "\n",
    "            # 손실 계산\n",
    "            target = target.float().unsqueeze(1)  # target을 [batch_size, 1] 형태로 변환\n",
    "            loss = loss_fn(pre_y, target)\n",
    "        \n",
    "            # 정확도 계산: 시그모이드 적용 후 0.5 기준으로 임계값 처리\n",
    "            pred = torch.sigmoid(pre_y)  # 로짓을 확률로 변환\n",
    "            pred = (pred >= 0.5).float()  # 확률을 0 또는 1로 변환 (0.5 기준)\n",
    "\n",
    "            acc = (pred == target).float().mean()  # 정확도 계산\n",
    "\n",
    "            T_LOSS += loss.item()\n",
    "            T_ACC  += acc.item()\n",
    "\n",
    "    return T_LOSS/n_iter, T_ACC/n_iter"
   ]
  },
  {
   "cell_type": "code",
   "execution_count": null,
   "metadata": {},
   "outputs": [],
   "source": [
    "from torchmetrics.classification import BinaryF1Score, BinaryAccuracy\n",
    "\n",
    "def training(model, trainDL, optimizer, loss_fn, acc_fn, n_iter):\n",
    "    model.train()\n",
    "\n",
    "    E_LOSS, E_ACC, E_SCORE = 0, 0, 0\n",
    "    for feature, target in trainDL:\n",
    "        feature, target = feature.to(DEVICE), target.to(DEVICE).float().unsqueeze(1)\n",
    "        \n",
    "        # 가중치 기울기 초기화\n",
    "        optimizer.zero_grad()\n",
    "\n",
    "        # 예측값 계산 (로짓 값)\n",
    "        pre_y = model(feature)\n",
    "\n",
    "        # 손실 계산\n",
    "        loss = loss_fn(pre_y, target)\n",
    "\n",
    "        # 모델 출력값을 Sigmoid 함수로 확률로 변환\n",
    "        prob = torch.sigmoid(pre_y)\n",
    "\n",
    "        # 예측 값(0 또는 1)으로 변환 (명시적으로 threshold=0.5 적용)\n",
    "        pred = (prob > 0.5).float()\n",
    "\n",
    "        # 정확도와 F1 Score 계산\n",
    "        #score = score_fn(pred, target.int())\n",
    "        \n",
    "        # 정확도 계산 (acc_fn 사용)\n",
    "        acc = acc_fn(pred, target.int())  # BinaryAccuracy 인스턴스 사용\n",
    "        \n",
    "        # 역전파 진행\n",
    "        loss.backward()\n",
    "        \n",
    "        # 가중치 업데이트\n",
    "        optimizer.step()\n",
    "\n",
    "        E_LOSS += loss.item()\n",
    "        # E_SCORE += score.item()\n",
    "        E_ACC  += acc.item()\n",
    "\n",
    "    return E_LOSS / n_iter, E_ACC / n_iter"
   ]
  },
  {
   "cell_type": "markdown",
   "metadata": {},
   "source": [
    "- DNN MODEL"
   ]
  },
  {
   "cell_type": "code",
   "execution_count": null,
   "metadata": {},
   "outputs": [
    {
     "name": "stdout",
     "output_type": "stream",
     "text": [
      "DEVICE => cpu\n"
     ]
    }
   ],
   "source": [
    "from math import ceil\n",
    "## 학습 설정\n",
    "EPOCHS      = 50\n",
    "BATCH_SIZE  = 1000\n",
    "T_ITERATION = ceil(len(TRAINDS) / BATCH_SIZE)\n",
    "V_ITERATION = ceil(len(TESTDS) / BATCH_SIZE)\n",
    "\n",
    "## 최적화 설정\n",
    "LR          = 0.0005\n",
    "PAT_CNT     = 10 # 성능 향상이 없을 때 10번의 에폭 후 중단\n",
    "CLASSES     = len(TRAINDS.classes)\n",
    "\n",
    "## 학습 및 데이터 로딩 실행 위치/저장 위치\n",
    "DEVICE      = 'gpu' if torch.cuda.is_available() else 'cpu'\n",
    "\n",
    "print(f'DEVICE => {DEVICE}')"
   ]
  },
  {
   "cell_type": "code",
   "execution_count": null,
   "metadata": {},
   "outputs": [],
   "source": [
    "from torchmetrics.classification import *\n",
    "\n",
    "## 인스턴스 생성\n",
    "GEN = torch.Generator().manual_seed(42) # 랜덤 시드 고정\n",
    "\n",
    "MODEL       = EmotionDNN()\n",
    "OPTIMIZER   = optim.Adam(MODEL.parameters(), lr=LR)\n",
    "SCHEDULER   = ReduceLROnPlateau(OPTIMIZER, mode='min', patience=PAT_CNT)\n",
    "\n",
    "\n",
    "LOSS_FN     = FocalLoss()\n",
    "SCORE_FN    = BinaryAccuracy()"
   ]
  },
  {
   "cell_type": "markdown",
   "metadata": {},
   "source": [
    "-> 학습 진행  : 모델 또는 가중치 저장 + 성능이 더이상 좋아지지 않으면 조기종료"
   ]
  },
  {
   "cell_type": "code",
   "execution_count": null,
   "metadata": {},
   "outputs": [],
   "source": [
    "## 모델 경로 설정\n",
    "MODEL_DIR  = './models/'\n",
    "MODEL_FILE = 'EmotionDNN.pt'"
   ]
  },
  {
   "cell_type": "code",
   "execution_count": null,
   "metadata": {},
   "outputs": [
    {
     "name": "stdout",
     "output_type": "stream",
     "text": [
      "\n",
      "EPOCH[0/50]----------------\n",
      "- TRAIN_LOSS 0.01927  ACC 0.35526\n",
      "- VALID_LOSS 0.02326  ACC 0.92964\n",
      "\n",
      "EPOCH[1/50]----------------\n",
      "- TRAIN_LOSS 0.01510  ACC 0.37490\n",
      "- VALID_LOSS 0.02442  ACC 0.93148\n",
      "\n",
      "EPOCH[2/50]----------------\n",
      "- TRAIN_LOSS 0.01403  ACC 0.38242\n",
      "- VALID_LOSS 0.02509  ACC 0.92745\n",
      "\n",
      "EPOCH[3/50]----------------\n",
      "- TRAIN_LOSS 0.01354  ACC 0.38571\n",
      "- VALID_LOSS 0.02391  ACC 0.93159\n",
      "\n",
      "EPOCH[4/50]----------------\n",
      "- TRAIN_LOSS 0.01325  ACC 0.38812\n",
      "- VALID_LOSS 0.02400  ACC 0.92973\n",
      "\n",
      "EPOCH[5/50]----------------\n",
      "- TRAIN_LOSS 0.01308  ACC 0.38945\n",
      "- VALID_LOSS 0.02488  ACC 0.91930\n",
      "\n",
      "EPOCH[6/50]----------------\n",
      "- TRAIN_LOSS 0.01284  ACC 0.39196\n",
      "- VALID_LOSS 0.02432  ACC 0.90938\n",
      "\n",
      "EPOCH[7/50]----------------\n",
      "- TRAIN_LOSS 0.01278  ACC 0.39215\n",
      "- VALID_LOSS 0.02450  ACC 0.90698\n",
      "\n",
      "EPOCH[8/50]----------------\n",
      "- TRAIN_LOSS 0.01259  ACC 0.39470\n",
      "- VALID_LOSS 0.02382  ACC 0.90632\n",
      "\n",
      "EPOCH[9/50]----------------\n",
      "- TRAIN_LOSS 0.01237  ACC 0.39697\n",
      "- VALID_LOSS 0.02415  ACC 0.90248\n",
      "\n",
      "EPOCH[10/50]----------------\n",
      "- TRAIN_LOSS 0.01233  ACC 0.39757\n",
      "- VALID_LOSS 0.02564  ACC 0.88547\n",
      "\n",
      "EPOCH[11/50]----------------\n",
      "- TRAIN_LOSS 0.01223  ACC 0.39813\n",
      "- VALID_LOSS 0.02428  ACC 0.89454\n",
      "\n",
      "EPOCH[12/50]----------------\n",
      "- TRAIN_LOSS 0.01195  ACC 0.40123\n",
      "- VALID_LOSS 0.02344  ACC 0.89837\n",
      "\n",
      "EPOCH[13/50]----------------\n",
      "- TRAIN_LOSS 0.01181  ACC 0.40314\n",
      "- VALID_LOSS 0.02398  ACC 0.88950\n",
      "\n",
      "EPOCH[14/50]----------------\n",
      "- TRAIN_LOSS 0.01173  ACC 0.40320\n",
      "- VALID_LOSS 0.02347  ACC 0.89131\n",
      "\n",
      "EPOCH[15/50]----------------\n",
      "- TRAIN_LOSS 0.01170  ACC 0.40335\n",
      "- VALID_LOSS 0.02349  ACC 0.89033\n",
      "\n",
      "EPOCH[16/50]----------------\n",
      "- TRAIN_LOSS 0.01163  ACC 0.40422\n",
      "- VALID_LOSS 0.02381  ACC 0.88527\n",
      "\n",
      "EPOCH[17/50]----------------\n",
      "- TRAIN_LOSS 0.01153  ACC 0.40591\n",
      "- VALID_LOSS 0.02373  ACC 0.88560\n",
      "\n",
      "EPOCH[18/50]----------------\n",
      "- TRAIN_LOSS 0.01151  ACC 0.40567\n",
      "- VALID_LOSS 0.02341  ACC 0.88741\n",
      "\n",
      "EPOCH[19/50]----------------\n",
      "- TRAIN_LOSS 0.01145  ACC 0.40583\n",
      "- VALID_LOSS 0.02383  ACC 0.87991\n",
      "\n",
      "EPOCH[20/50]----------------\n",
      "- TRAIN_LOSS 0.01142  ACC 0.40658\n",
      "- VALID_LOSS 0.02396  ACC 0.87903\n",
      "\n",
      "EPOCH[21/50]----------------\n",
      "- TRAIN_LOSS 0.01137  ACC 0.40691\n",
      "- VALID_LOSS 0.02406  ACC 0.87641\n",
      "\n",
      "EPOCH[22/50]----------------\n",
      "- TRAIN_LOSS 0.01133  ACC 0.40785\n",
      "- VALID_LOSS 0.02353  ACC 0.88118\n",
      "\n",
      "EPOCH[23/50]----------------\n",
      "- TRAIN_LOSS 0.01122  ACC 0.40875\n",
      "- VALID_LOSS 0.02371  ACC 0.87887\n",
      "\n",
      "EPOCH[24/50]----------------\n",
      "- TRAIN_LOSS 0.01115  ACC 0.40979\n",
      "- VALID_LOSS 0.02323  ACC 0.88405\n",
      "\n",
      "EPOCH[25/50]----------------\n",
      "- TRAIN_LOSS 0.01116  ACC 0.40921\n",
      "- VALID_LOSS 0.02323  ACC 0.88427\n",
      "\n",
      "EPOCH[26/50]----------------\n",
      "- TRAIN_LOSS 0.01116  ACC 0.40840\n",
      "- VALID_LOSS 0.02328  ACC 0.88344\n",
      "\n",
      "EPOCH[27/50]----------------\n",
      "- TRAIN_LOSS 0.01116  ACC 0.40958\n",
      "- VALID_LOSS 0.02337  ACC 0.88216\n",
      "\n",
      "EPOCH[28/50]----------------\n",
      "- TRAIN_LOSS 0.01112  ACC 0.40980\n",
      "- VALID_LOSS 0.02314  ACC 0.88328\n",
      "\n",
      "EPOCH[29/50]----------------\n",
      "- TRAIN_LOSS 0.01117  ACC 0.40863\n",
      "- VALID_LOSS 0.02307  ACC 0.88505\n",
      "\n",
      "EPOCH[30/50]----------------\n",
      "- TRAIN_LOSS 0.01116  ACC 0.40885\n",
      "- VALID_LOSS 0.02272  ACC 0.88622\n",
      "\n",
      "EPOCH[31/50]----------------\n",
      "- TRAIN_LOSS 0.01112  ACC 0.40917\n",
      "- VALID_LOSS 0.02310  ACC 0.88356\n",
      "\n",
      "EPOCH[32/50]----------------\n",
      "- TRAIN_LOSS 0.01116  ACC 0.40897\n",
      "- VALID_LOSS 0.02320  ACC 0.88345\n",
      "\n",
      "EPOCH[33/50]----------------\n",
      "- TRAIN_LOSS 0.01110  ACC 0.41038\n",
      "- VALID_LOSS 0.02335  ACC 0.88057\n",
      "\n",
      "EPOCH[34/50]----------------\n",
      "- TRAIN_LOSS 0.01111  ACC 0.41008\n",
      "- VALID_LOSS 0.02369  ACC 0.87747\n",
      "\n",
      "EPOCH[35/50]----------------\n",
      "- TRAIN_LOSS 0.01105  ACC 0.41048\n",
      "- VALID_LOSS 0.02358  ACC 0.87864\n",
      "\n",
      "EPOCH[36/50]----------------\n",
      "- TRAIN_LOSS 0.01105  ACC 0.41046\n",
      "- VALID_LOSS 0.02306  ACC 0.88278\n",
      "\n",
      "EPOCH[37/50]----------------\n",
      "- TRAIN_LOSS 0.01110  ACC 0.40960\n",
      "- VALID_LOSS 0.02313  ACC 0.88306\n",
      "\n",
      "EPOCH[38/50]----------------\n",
      "- TRAIN_LOSS 0.01108  ACC 0.40978\n",
      "- VALID_LOSS 0.02306  ACC 0.88262\n",
      "\n",
      "EPOCH[39/50]----------------\n",
      "- TRAIN_LOSS 0.01104  ACC 0.41056\n",
      "- VALID_LOSS 0.02358  ACC 0.87714\n",
      "\n",
      "EPOCH[40/50]----------------\n",
      "- TRAIN_LOSS 0.01108  ACC 0.41045\n",
      "- VALID_LOSS 0.02301  ACC 0.88416\n",
      "40--[EPOCHS : 성능 개선이 없어서 조기 종료합니다.]\n",
      "\n",
      "EPOCH[41/50]----------------\n",
      "- TRAIN_LOSS 0.01103  ACC 0.41037\n",
      "- VALID_LOSS 0.02330  ACC 0.88034\n",
      "41--[EPOCHS : 성능 개선이 없어서 조기 종료합니다.]\n",
      "\n",
      "EPOCH[42/50]----------------\n",
      "- TRAIN_LOSS 0.01105  ACC 0.41045\n",
      "- VALID_LOSS 0.02347  ACC 0.87901\n",
      "42--[EPOCHS : 성능 개선이 없어서 조기 종료합니다.]\n",
      "\n",
      "EPOCH[43/50]----------------\n",
      "- TRAIN_LOSS 0.01101  ACC 0.41067\n",
      "- VALID_LOSS 0.02325  ACC 0.88127\n",
      "43--[EPOCHS : 성능 개선이 없어서 조기 종료합니다.]\n",
      "\n",
      "EPOCH[44/50]----------------\n",
      "- TRAIN_LOSS 0.01104  ACC 0.40985\n",
      "- VALID_LOSS 0.02300  ACC 0.88372\n",
      "44--[EPOCHS : 성능 개선이 없어서 조기 종료합니다.]\n",
      "\n",
      "EPOCH[45/50]----------------\n",
      "- TRAIN_LOSS 0.01099  ACC 0.41120\n",
      "- VALID_LOSS 0.02333  ACC 0.87990\n",
      "45--[EPOCHS : 성능 개선이 없어서 조기 종료합니다.]\n",
      "\n",
      "EPOCH[46/50]----------------\n",
      "- TRAIN_LOSS 0.01102  ACC 0.41068\n",
      "- VALID_LOSS 0.02346  ACC 0.87808\n",
      "46--[EPOCHS : 성능 개선이 없어서 조기 종료합니다.]\n",
      "\n",
      "EPOCH[47/50]----------------\n",
      "- TRAIN_LOSS 0.01103  ACC 0.40986\n",
      "- VALID_LOSS 0.02309  ACC 0.88305\n",
      "47--[EPOCHS : 성능 개선이 없어서 조기 종료합니다.]\n",
      "\n",
      "EPOCH[48/50]----------------\n",
      "- TRAIN_LOSS 0.01100  ACC 0.41087\n",
      "- VALID_LOSS 0.02320  ACC 0.88001\n",
      "48--[EPOCHS : 성능 개선이 없어서 조기 종료합니다.]\n",
      "\n",
      "EPOCH[49/50]----------------\n",
      "- TRAIN_LOSS 0.01106  ACC 0.41066\n",
      "- VALID_LOSS 0.02341  ACC 0.87792\n",
      "49--[EPOCHS : 성능 개선이 없어서 조기 종료합니다.]\n"
     ]
    }
   ],
   "source": [
    "## 학습 관련 모듈 로딩\n",
    "# from utils import * \n",
    "\n",
    "# 에포크 : DS 처음부터 ~ 끝까지 학습  \n",
    "HIST ={'Train':[[],[]], 'Valid':[[],[]]} \n",
    "\n",
    "# 모델 저장을 위한 기준값 저장 변수 \n",
    "BEST_ACC = 0\n",
    "\n",
    "# 조기종료 위한 기준값 저장 변수\n",
    "EARLY_STOP = 3\n",
    "\n",
    "# 에포크 단위 학습/검증 진행 \n",
    "for epoch in range(EPOCHS):\n",
    "    trainLoss, trainAcc = training(MODEL, TRAINDL, OPTIMIZER, LOSS_FN, SCORE_FN, T_ITERATION)\n",
    "    validLoss, validAcc = evaluate(MODEL, VALIDDL, LOSS_FN, SCORE_FN, V_ITERATION)\n",
    "\n",
    "    ## 모델 저장\n",
    "    # if BEST_ACC < validAcc:   # 0 < 0.1212  ==>  0.1212 < 현재 valacc\n",
    "    #     #torch.save(MODEL, MODEL_DIR+MODEL_FILE)\n",
    "    #     torch.save(MODEL, f'{MODEL_DIR}fashion_epoch{epoch}_{validAcc:.3f}.pt')\n",
    "    #     BEST_ACC = validAcc\n",
    "\n",
    "    ## 모델 층별 가중치+바이어스 저장\n",
    "    if BEST_ACC < validAcc:   # 0 < 0.1212  ==>  0.1212 < 현재 valacc\n",
    "        #torch.save(MODEL.state_dict(), MODEL_DIR+MODEL_FILE)\n",
    "        torch.save(MODEL.state_dict(), f'{MODEL_DIR}emotion_2st_weights_epoch{epoch}_{validAcc:.3f}.pt')\n",
    "        BEST_ACC = validAcc\n",
    "\n",
    "    # 학습 상태 저장\n",
    "    HIST['Train'][0].append(trainLoss) \n",
    "    HIST['Train'][1].append(trainAcc) \n",
    "    \n",
    "    HIST['Valid'][0].append(validLoss) \n",
    "    HIST['Valid'][1].append(validAcc) \n",
    "\n",
    "    # 학습 상태 시각화\n",
    "    print(f'\\nEPOCH[{epoch}/{EPOCHS}]----------------')\n",
    "    print(f'- TRAIN_LOSS {trainLoss:.5f}  ACC {trainAcc:.5f}')\n",
    "    print(f'- VALID_LOSS {validLoss:.5f}  ACC {validAcc:.5f}')\n",
    "    \n",
    "    # 조기종료 체크\n",
    "    SCHEDULER.step(validLoss)\n",
    "    \n",
    "    if SCHEDULER.num_bad_epochs >= SCHEDULER.patience:\n",
    "        EARLY_STOP -= 1\n",
    "        \n",
    "    if not EARLY_STOP:\n",
    "        print(f'{epoch}--[EPOCHS : 성능 개선이 없어서 조기 종료합니다.]')"
   ]
  },
  {
   "cell_type": "markdown",
   "metadata": {},
   "source": [
    "[ 모델 활용 ]<hr>"
   ]
  },
  {
   "cell_type": "code",
   "execution_count": null,
   "metadata": {},
   "outputs": [],
   "source": [
    "MODEL_DIR = './models/'"
   ]
  },
  {
   "cell_type": "code",
   "execution_count": null,
   "metadata": {},
   "outputs": [],
   "source": [
    "## 저장된 층별 가중치와바이어스 로딩 \n",
    "WEIGHTS_FILE = MODEL_DIR+'emotion_weights_epoch11_0.943.pt'\n",
    "\n",
    "model = EmotionDNN()\n",
    "states=torch.load(WEIGHTS_FILE, weights_only=True)\n",
    "model.load_state_dict(states)\n",
    "\n",
    "MODEL_FILE = model.load_state_dict(states)"
   ]
  },
  {
   "cell_type": "code",
   "execution_count": null,
   "metadata": {},
   "outputs": [
    {
     "data": {
      "text/plain": [
       "EmotionDNN(\n",
       "  (in_layer): Flatten(start_dim=1, end_dim=-1)\n",
       "  (hd_layer1): Linear(in_features=2304, out_features=512, bias=True)\n",
       "  (batch_norm1): BatchNorm1d(512, eps=1e-05, momentum=0.1, affine=True, track_running_stats=True)\n",
       "  (hd_layer2): Linear(in_features=512, out_features=256, bias=True)\n",
       "  (batch_norm2): BatchNorm1d(256, eps=1e-05, momentum=0.1, affine=True, track_running_stats=True)\n",
       "  (hd_layer3): Linear(in_features=256, out_features=130, bias=True)\n",
       "  (batch_norm3): BatchNorm1d(130, eps=1e-05, momentum=0.1, affine=True, track_running_stats=True)\n",
       "  (out_layer): Linear(in_features=130, out_features=1, bias=True)\n",
       "  (drop_layer): Dropout(p=0.5, inplace=False)\n",
       ")"
      ]
     },
     "execution_count": 5,
     "metadata": {},
     "output_type": "execute_result"
    }
   ],
   "source": [
    "MODEL_DIR = './models/'\n",
    "\n",
    "# 모델 정의 및 가중치 로드\n",
    "WEIGHTS_FILE = MODEL_DIR+'emotion_weights_epoch11_0.943.pt'\n",
    "\n",
    "\n",
    "model = EmotionDNN()\n",
    "\n",
    "states=torch.load(WEIGHTS_FILE, weights_only=True)\n",
    "model.load_state_dict(states)\n",
    "\n",
    "model.eval()\n",
    "\n",
    "# # 모델 객체 전체 저장\n",
    "# torch.save(model, 'Emotion_DNNMODEL.pt') "
   ]
  },
  {
   "cell_type": "markdown",
   "metadata": {},
   "source": [
    "[ 예측 ]<hr>"
   ]
  },
  {
   "cell_type": "code",
   "execution_count": null,
   "metadata": {},
   "outputs": [],
   "source": [
    "image_path = r'C:\\Users\\KDT-37\\Desktop\\KDT_7\\10_DL\\project\\data\\archive\\MMAFEDB\\valid\\happy\\98Exp3angry_actor_653.jpg'"
   ]
  },
  {
   "cell_type": "code",
   "execution_count": null,
   "metadata": {},
   "outputs": [
    {
     "name": "stdout",
     "output_type": "stream",
     "text": [
      "예측된 감정: not angry, 확률: 0.73\n"
     ]
    }
   ],
   "source": [
    "result, confidence = predict_image(model, image_path)\n",
    "print(f\"예측된 감정: {result}, 확률: {confidence:.2f}\")"
   ]
  },
  {
   "cell_type": "code",
   "execution_count": null,
   "metadata": {},
   "outputs": [],
   "source": [
    "image_path = r'C:\\Users\\KDT-37\\Desktop\\KDT_7\\10_DL\\project\\1.png'"
   ]
  },
  {
   "cell_type": "code",
   "execution_count": null,
   "metadata": {},
   "outputs": [
    {
     "name": "stdout",
     "output_type": "stream",
     "text": [
      "예측된 감정: not angry, 확률: 0.63\n"
     ]
    }
   ],
   "source": [
    "result, confidence = predict_image(model, image_path)\n",
    "print(f\"예측된 감정: {result}, 확률: {confidence:.2f}\")"
   ]
  },
  {
   "cell_type": "code",
   "execution_count": null,
   "metadata": {},
   "outputs": [],
   "source": [
    " "
   ]
  }
 ],
 "metadata": {
  "kernelspec": {
   "display_name": "DL_TORCH",
   "language": "python",
   "name": "python3"
  },
  "language_info": {
   "codemirror_mode": {
    "name": "ipython",
    "version": 3
   },
   "file_extension": ".py",
   "mimetype": "text/x-python",
   "name": "python",
   "nbconvert_exporter": "python",
   "pygments_lexer": "ipython3",
   "version": "3.9.21"
  }
 },
 "nbformat": 4,
 "nbformat_minor": 2
}
