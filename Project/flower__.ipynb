{
 "cells": [
  {
   "cell_type": "code",
   "execution_count": null,
   "metadata": {},
   "outputs": [],
   "source": [
    "import os\n",
    "import cv2\n",
    "import numpy as np\n",
    "import pandas as pd\n",
    "import matplotlib.pyplot as plt\n",
    "from sklearn.cluster import KMeans\n",
    "import utils"
   ]
  },
  {
   "cell_type": "code",
   "execution_count": null,
   "metadata": {},
   "outputs": [],
   "source": [
    "folder = 'data'\n",
    "output_csv = r'C:\\Users\\KDT-37\\Desktop\\KDT_7\\09_ML_CV\\Project'"
   ]
  },
  {
   "cell_type": "code",
   "execution_count": null,
   "metadata": {},
   "outputs": [],
   "source": [
    "image_files = [f for f in os.listdir(folder) if f.endswith(('.jpg', '.png'))]\n",
    "rows = []\n",
    "\n",
    "for file in image_files:\n",
    "    path = os.path.join(folder, file)\n",
    "    img = cv2.imread(path)\n",
    "    if img is None:\n",
    "        continue\n",
    "\n",
    "    fg_img = utils.remove_background(img)\n",
    "    dominant_colors = utils.extract_dominant_colors(fg_img, k=5)\n",
    "    if not dominant_colors:\n",
    "        print(f\"분석 불가: {file}\")\n",
    "        continue\n",
    "    \n",
    "\n",
    "    #print(f\"\\n{file} 지배 색상 분석:\")\n",
    "    row = [file]\n",
    "    for idx, (color, ratio) in enumerate(dominant_colors):\n",
    "        hue_group = utils.classify_color_group(color)\n",
    "        #print(f\"  Color {idx+1}: RGB={color}, 비율={ratio:.2f}, 계열={hue_group}\")\n",
    "        row += list(color) + [ratio]\n",
    "\n",
    "    rows.append(row)\n",
    "\n",
    "    # # 대표 색상 시각화\n",
    "    # utils.plot_colors([c for c, _ in dominant_colors],\n",
    "    #             [r for _, r in dominant_colors],\n",
    "    #             file)\n",
    "\n",
    "# CSV 저장\n",
    "columns = ['filename']\n",
    "for i in range(1, 6):\n",
    "    columns += [f'R{i}', f'G{i}', f'B{i}', f'Ratio{i}']\n",
    "\n",
    "df = pd.DataFrame(rows, columns=columns)\n",
    "df.to_csv(output_csv, index=False)\n",
    "print(f\"\\n CSV 저장 완료: {output_csv}\")"
   ]
  },
  {
   "cell_type": "code",
   "execution_count": null,
   "metadata": {},
   "outputs": [],
   "source": [
    "df.head()"
   ]
  },
  {
   "cell_type": "code",
   "execution_count": null,
   "metadata": {},
   "outputs": [],
   "source": [
    "df['label'] = df['filename'].apply(lambda x: x.split('_')[0].lower())"
   ]
  },
  {
   "cell_type": "markdown",
   "metadata": {},
   "source": [
    "[ 랜덤포레스트 ]<hr>"
   ]
  },
  {
   "cell_type": "code",
   "execution_count": null,
   "metadata": {},
   "outputs": [],
   "source": [
    "%pip install seaborn"
   ]
  },
  {
   "cell_type": "code",
   "execution_count": null,
   "metadata": {},
   "outputs": [],
   "source": [
    "from sklearn.model_selection import train_test_split\n",
    "from sklearn.ensemble import RandomForestClassifier\n",
    "from sklearn.metrics import accuracy_score, classification_report, confusion_matrix\n",
    "import seaborn as sns\n",
    "import matplotlib.pyplot as plt\n",
    "\n",
    "X = df.drop(['filename', 'label'], axis=1)\n",
    "y = df['label']\n",
    "\n",
    "\n",
    "X_train, X_test, y_train, y_test = train_test_split(X, y, test_size=0.2, random_state=42)\n",
    "\n",
    "\n",
    "model = RandomForestClassifier(random_state=42)\n",
    "model.fit(X_train, y_train)\n",
    "\n",
    "\n",
    "y_pred = model.predict(X_test)\n",
    "\n",
    "\n",
    "acc = accuracy_score(y_test, y_pred)\n",
    "print(f\" 분류 정확도: {acc:.2f}\")\n",
    "\n",
    "\n",
    "print(\"\\nClassification Report:\")\n",
    "print(classification_report(y_test, y_pred))\n",
    "\n",
    "# 혼동 행렬 시각화\n",
    "cm = confusion_matrix(y_test, y_pred)\n",
    "plt.figure(figsize=(6, 4))\n",
    "sns.heatmap(cm, annot=True, fmt='d', cmap='Blues', xticklabels=model.classes_, yticklabels=model.classes_)\n",
    "plt.xlabel('Predicted')\n",
    "plt.ylabel('Actual')\n",
    "plt.title('Confusion Matrix')\n",
    "plt.tight_layout()\n",
    "plt.show()"
   ]
  },
  {
   "cell_type": "markdown",
   "metadata": {},
   "source": [
    "RGB → HSV로 변환\n",
    "\n",
    "**가장 지배적인 색상(Ratio1 기준)**만 사용\n",
    "\n",
    "색상 계열(color_group) → One-Hot 인코딩"
   ]
  },
  {
   "cell_type": "code",
   "execution_count": null,
   "metadata": {},
   "outputs": [],
   "source": [
    "df_simple = df[['filename', 'R1', 'G1', 'B1', 'Ratio1']].copy()\n",
    "df_simple['label'] = df['filename'].apply(lambda x: x.split('_')[0].lower())"
   ]
  },
  {
   "cell_type": "code",
   "execution_count": null,
   "metadata": {},
   "outputs": [],
   "source": [
    "def rgb_to_hsv(r, g, b):\n",
    "    color = np.uint8([[[r, g, b]]])\n",
    "    hsv = cv2.cvtColor(color, cv2.COLOR_RGB2HSV)[0][0]\n",
    "    return hsv[0], hsv[1], hsv[2]\n",
    "\n",
    "# HSV 컬럼 추가\n",
    "df_simple[['H', 'S', 'V']] = df_simple.apply(lambda row: pd.Series(rgb_to_hsv(row['R1'], row['G1'], row['B1'])), axis=1)"
   ]
  },
  {
   "cell_type": "code",
   "execution_count": null,
   "metadata": {},
   "outputs": [],
   "source": [
    "df_simple = df_simple.drop(columns=['R1', 'G1', 'B1'])"
   ]
  },
  {
   "cell_type": "code",
   "execution_count": null,
   "metadata": {},
   "outputs": [],
   "source": [
    "df_simple['color_group'] = df_simple['H'].apply(utils.classify_color_group_from_h)"
   ]
  },
  {
   "cell_type": "code",
   "execution_count": null,
   "metadata": {},
   "outputs": [],
   "source": [
    "from sklearn.preprocessing import OneHotEncoder\n",
    "\n",
    "encoder = OneHotEncoder(sparse=False)\n",
    "encoded = encoder.fit_transform(df_simple[['color_group']])\n",
    "encoded_df = pd.DataFrame(encoded, columns=encoder.get_feature_names_out(['color_group']))"
   ]
  },
  {
   "cell_type": "code",
   "execution_count": null,
   "metadata": {},
   "outputs": [],
   "source": [
    "df_final = pd.concat([df_simple.drop(columns=['color_group', 'filename']), encoded_df], axis=1)"
   ]
  },
  {
   "cell_type": "code",
   "execution_count": null,
   "metadata": {},
   "outputs": [],
   "source": [
    "from sklearn.model_selection import train_test_split\n",
    "from sklearn.ensemble import RandomForestClassifier\n",
    "from sklearn.metrics import accuracy_score, classification_report\n",
    "\n",
    "X = df_final.drop(columns=['label'])\n",
    "y = df_final['label']\n",
    "\n",
    "X_train, X_test, y_train, y_test = train_test_split(X, y, test_size=0.2, random_state=42)\n",
    "\n",
    "clf = RandomForestClassifier(random_state=42)\n",
    "clf.fit(X_train, y_train)\n",
    "\n",
    "y_pred = clf.predict(X_test)\n",
    "acc = accuracy_score(y_test, y_pred)\n",
    "\n",
    "print(f\"\\n 개선된 모델 정확도: {acc:.2f}\")\n",
    "print(\"\\n Classification Report:\")\n",
    "print(classification_report(y_test, y_pred))"
   ]
  }
 ],
 "metadata": {
  "kernelspec": {
   "display_name": "ML_CV",
   "language": "python",
   "name": "python3"
  },
  "language_info": {
   "codemirror_mode": {
    "name": "ipython",
    "version": 3
   },
   "file_extension": ".py",
   "mimetype": "text/x-python",
   "name": "python",
   "nbconvert_exporter": "python",
   "pygments_lexer": "ipython3",
   "version": "3.9.15"
  }
 },
 "nbformat": 4,
 "nbformat_minor": 2
}
